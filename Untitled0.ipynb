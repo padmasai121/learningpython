{
  "nbformat": 4,
  "nbformat_minor": 0,
  "metadata": {
    "colab": {
      "provenance": [],
      "authorship_tag": "ABX9TyMzUs+zcn7kkpRem55MBY/W",
      "include_colab_link": true
    },
    "kernelspec": {
      "name": "python3",
      "display_name": "Python 3"
    },
    "language_info": {
      "name": "python"
    }
  },
  "cells": [
    {
      "cell_type": "markdown",
      "metadata": {
        "id": "view-in-github",
        "colab_type": "text"
      },
      "source": [
        "<a href=\"https://colab.research.google.com/github/padmasai121/learningpython/blob/main/Untitled0.ipynb\" target=\"_parent\"><img src=\"https://colab.research.google.com/assets/colab-badge.svg\" alt=\"Open In Colab\"/></a>"
      ]
    },
    {
      "cell_type": "code",
      "execution_count": 1,
      "metadata": {
        "colab": {
          "base_uri": "https://localhost:8080/"
        },
        "id": "yFGvLz6Jv_-7",
        "outputId": "ac02f1f6-de6a-4d96-a5f4-3216704d2b6b"
      },
      "outputs": [
        {
          "output_type": "stream",
          "name": "stdout",
          "text": [
            "PadmaSai\n"
          ]
        }
      ],
      "source": [
        "print(\"PadmaSai\")"
      ]
    },
    {
      "cell_type": "code",
      "source": [
        "print(\"sai\",\"kallu\",\"danu\",121)"
      ],
      "metadata": {
        "colab": {
          "base_uri": "https://localhost:8080/"
        },
        "id": "jswVUhlHwn83",
        "outputId": "f2f0606a-d6ba-4964-a6cf-756bea2301bf"
      },
      "execution_count": 4,
      "outputs": [
        {
          "output_type": "stream",
          "name": "stdout",
          "text": [
            "sai kallu danu 121\n"
          ]
        }
      ]
    },
    {
      "cell_type": "code",
      "source": [
        "i=6\n",
        "print(i)\n",
        "type(i)"
      ],
      "metadata": {
        "colab": {
          "base_uri": "https://localhost:8080/"
        },
        "id": "uAUJKPAtxA7x",
        "outputId": "5b239b3d-bcb8-434a-c05d-0e3f918b821e"
      },
      "execution_count": 5,
      "outputs": [
        {
          "output_type": "stream",
          "name": "stdout",
          "text": [
            "6\n"
          ]
        },
        {
          "output_type": "execute_result",
          "data": {
            "text/plain": [
              "int"
            ]
          },
          "metadata": {},
          "execution_count": 5
        }
      ]
    },
    {
      "cell_type": "code",
      "source": [
        "i=\"paddu\"\n",
        "print(i)\n",
        "type(i)"
      ],
      "metadata": {
        "colab": {
          "base_uri": "https://localhost:8080/"
        },
        "id": "f8JUe57XxUHA",
        "outputId": "d5a23cf4-d692-41d2-d545-785ef273cd1b"
      },
      "execution_count": 6,
      "outputs": [
        {
          "output_type": "stream",
          "name": "stdout",
          "text": [
            "paddu\n"
          ]
        },
        {
          "output_type": "execute_result",
          "data": {
            "text/plain": [
              "str"
            ]
          },
          "metadata": {},
          "execution_count": 6
        }
      ]
    },
    {
      "cell_type": "code",
      "source": [
        "my_f=65.3\n",
        "print(my_f)\n",
        "type(my_f)"
      ],
      "metadata": {
        "colab": {
          "base_uri": "https://localhost:8080/"
        },
        "id": "H1plDex5xjLU",
        "outputId": "55534602-58c3-4310-9044-e302eea353f0"
      },
      "execution_count": 8,
      "outputs": [
        {
          "output_type": "stream",
          "name": "stdout",
          "text": [
            "65.3\n"
          ]
        },
        {
          "output_type": "execute_result",
          "data": {
            "text/plain": [
              "float"
            ]
          },
          "metadata": {},
          "execution_count": 8
        }
      ]
    },
    {
      "cell_type": "code",
      "source": [
        "my_bool=True\n",
        "print(my_bool)\n",
        "print(type(my_bool))"
      ],
      "metadata": {
        "colab": {
          "base_uri": "https://localhost:8080/"
        },
        "id": "BqMPzVYByG_5",
        "outputId": "4bf44328-9399-4e71-c93e-b444aa217d3c"
      },
      "execution_count": 10,
      "outputs": [
        {
          "output_type": "stream",
          "name": "stdout",
          "text": [
            "True\n",
            "<class 'bool'>\n"
          ]
        }
      ]
    },
    {
      "cell_type": "code",
      "source": [
        "my_none=None\n",
        "print(my_none)\n",
        "print(type(my_none))"
      ],
      "metadata": {
        "colab": {
          "base_uri": "https://localhost:8080/"
        },
        "id": "A2TJwg7By8Je",
        "outputId": "5ecba1d6-c2db-44d3-dd4f-9f338774d87c"
      },
      "execution_count": 11,
      "outputs": [
        {
          "output_type": "stream",
          "name": "stdout",
          "text": [
            "None\n",
            "<class 'NoneType'>\n"
          ]
        }
      ]
    },
    {
      "cell_type": "code",
      "source": [
        "name=input(\"enter your name:\")\n",
        "print(name)\n",
        "print(type(name))"
      ],
      "metadata": {
        "colab": {
          "base_uri": "https://localhost:8080/"
        },
        "id": "BDaZUimkzios",
        "outputId": "3e2e8244-1a77-4c6b-ce41-1329b7881e03"
      },
      "execution_count": 12,
      "outputs": [
        {
          "output_type": "stream",
          "name": "stdout",
          "text": [
            "enter your name:padma\n",
            "padma\n",
            "<class 'str'>\n"
          ]
        }
      ]
    },
    {
      "cell_type": "code",
      "source": [
        "num='9'\n",
        "print(type(num))\n",
        "num=int(num)\n",
        "print(type(num))"
      ],
      "metadata": {
        "colab": {
          "base_uri": "https://localhost:8080/"
        },
        "id": "Ah5ruGK70Afs",
        "outputId": "6aaf918c-6810-4fe7-d011-22de9a373ed2"
      },
      "execution_count": 13,
      "outputs": [
        {
          "output_type": "stream",
          "name": "stdout",
          "text": [
            "<class 'str'>\n",
            "<class 'int'>\n"
          ]
        }
      ]
    },
    {
      "cell_type": "code",
      "source": [
        "age=int(input(\"what's your age ? \"))\n",
        "print(age)\n",
        "print(type(age))"
      ],
      "metadata": {
        "colab": {
          "base_uri": "https://localhost:8080/"
        },
        "id": "3lLMjjX60pJ4",
        "outputId": "683c0ebe-8335-4586-b815-52a71ffd289a"
      },
      "execution_count": 14,
      "outputs": [
        {
          "output_type": "stream",
          "name": "stdout",
          "text": [
            "what's your age ? 57\n",
            "57\n",
            "<class 'int'>\n"
          ]
        }
      ]
    },
    {
      "cell_type": "code",
      "source": [
        "number1=12\n",
        "number2=3\n",
        "add==number1+number2\n",
        "sub=number1-number2\n",
        "mul=number1*number2\n",
        "div=number1/number2\n",
        "f_div=number1//number2\n",
        "exp=number1**number2\n",
        "mod=number1%number2\n",
        "print(\"number1+number2=\",add)\n",
        "print(\"number1-number2=\",sub)\n",
        "print(\"number1number2=\",mul)\n",
        "print(\"number1/number2=\",div)\n",
        "print(\"number1//number2=\",f_div)\n",
        "print(\"number1**number2=\",exp)\n",
        "print(\"number1%number2=\",mod)"
      ],
      "metadata": {
        "colab": {
          "base_uri": "https://localhost:8080/"
        },
        "id": "t7UgwsYe1Khd",
        "outputId": "59890aa6-2036-490e-ecc3-a26dc4f1387a"
      },
      "execution_count": 19,
      "outputs": [
        {
          "output_type": "stream",
          "name": "stdout",
          "text": [
            "number1+number2= 167\n",
            "number1-number2= 9\n",
            "number1number2= 36\n",
            "number1/number2= 4.0\n",
            "number1//number2= 4\n",
            "number1**number2= 1728\n",
            "number1%number2= 0\n"
          ]
        }
      ]
    },
    {
      "cell_type": "code",
      "source": [
        "no1=12\n",
        "no2=5\n",
        "print(\"a>b:\",no1>no2)\n",
        "print(\"a<b:\",no1<no2)\n",
        "print(\"a==b:\",no1==no2)\n",
        "print(\"a!=b:\",no1!=no2)"
      ],
      "metadata": {
        "colab": {
          "base_uri": "https://localhost:8080/"
        },
        "id": "GcPkVePM3GCL",
        "outputId": "44c6b273-fb53-4f8b-fe75-bf9b17ad8e37"
      },
      "execution_count": 20,
      "outputs": [
        {
          "output_type": "stream",
          "name": "stdout",
          "text": [
            "a>b: True\n",
            "a<b: False\n",
            "a==b: False\n",
            "a!=b: True\n"
          ]
        }
      ]
    },
    {
      "cell_type": "code",
      "source": [
        "no1=12\n",
        "no2=5\n",
        "print((no1>no2)and(no1<no2))\n",
        "print((no1>no2)or(no1<no2))\n",
        "print( not False)\n",
        "print(no1&no2)\n",
        "print(no1|no2)"
      ],
      "metadata": {
        "colab": {
          "base_uri": "https://localhost:8080/"
        },
        "id": "BtNrMhQb4Dmx",
        "outputId": "2156364b-f821-408a-e606-0412cca57b31"
      },
      "execution_count": 2,
      "outputs": [
        {
          "output_type": "stream",
          "name": "stdout",
          "text": [
            "False\n",
            "True\n",
            "True\n",
            "4\n",
            "13\n"
          ]
        }
      ]
    },
    {
      "cell_type": "code",
      "source": [
        "\"good\" in \"good morning\""
      ],
      "metadata": {
        "colab": {
          "base_uri": "https://localhost:8080/"
        },
        "id": "hAgBe0gd5dmf",
        "outputId": "a9392f67-663e-4f30-aa5d-766619166b3a"
      },
      "execution_count": 24,
      "outputs": [
        {
          "output_type": "execute_result",
          "data": {
            "text/plain": [
              "True"
            ]
          },
          "metadata": {},
          "execution_count": 24
        }
      ]
    },
    {
      "cell_type": "code",
      "source": [
        "age=int(input())\n",
        "print(\"enter your age:\",age)\n",
        "if(age>=18):\n",
        "  print(\"you're eligible to vote.\")\n",
        "else:\n",
        "  print(\"grow up first.\")"
      ],
      "metadata": {
        "colab": {
          "base_uri": "https://localhost:8080/"
        },
        "id": "6v-yR4KO6LGZ",
        "outputId": "88c61a8f-29cf-4577-be0d-2162561d55ac"
      },
      "execution_count": 6,
      "outputs": [
        {
          "output_type": "stream",
          "name": "stdout",
          "text": [
            "34\n",
            "enter your age: 34\n",
            "you're eligible to vote.\n"
          ]
        }
      ]
    },
    {
      "cell_type": "code",
      "source": [
        "age=int(input())\n",
        "print(\"enter your age:\",age)\n",
        "if(age>=18):\n",
        "  print(\"you're eligible to vote.\")\n",
        "elif(age>=15):\n",
        "  print(\"grow up first.\")\n",
        "else:\n",
        "  print(\"go home kid.\")"
      ],
      "metadata": {
        "colab": {
          "base_uri": "https://localhost:8080/"
        },
        "id": "lKFtgFuB86Bt",
        "outputId": "a6f578d9-0841-421c-f6d1-6441595c0697"
      },
      "execution_count": 9,
      "outputs": [
        {
          "output_type": "stream",
          "name": "stdout",
          "text": [
            "5\n",
            "enter your age: 5\n",
            "go home kid.\n"
          ]
        }
      ]
    },
    {
      "cell_type": "code",
      "source": [],
      "metadata": {
        "id": "c3GkVen89rdl"
      },
      "execution_count": 2,
      "outputs": []
    }
  ]
}