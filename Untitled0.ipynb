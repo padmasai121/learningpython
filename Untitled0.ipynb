{
  "nbformat": 4,
  "nbformat_minor": 0,
  "metadata": {
    "colab": {
      "provenance": [],
      "authorship_tag": "ABX9TyNK6/bH0HKYPnb4GDQTMSUS",
      "include_colab_link": true
    },
    "kernelspec": {
      "name": "python3",
      "display_name": "Python 3"
    },
    "language_info": {
      "name": "python"
    }
  },
  "cells": [
    {
      "cell_type": "markdown",
      "metadata": {
        "id": "view-in-github",
        "colab_type": "text"
      },
      "source": [
        "<a href=\"https://colab.research.google.com/github/padmasai121/learningpython/blob/main/Untitled0.ipynb\" target=\"_parent\"><img src=\"https://colab.research.google.com/assets/colab-badge.svg\" alt=\"Open In Colab\"/></a>"
      ]
    },
    {
      "cell_type": "code",
      "execution_count": null,
      "metadata": {
        "colab": {
          "base_uri": "https://localhost:8080/"
        },
        "id": "yFGvLz6Jv_-7",
        "outputId": "ac02f1f6-de6a-4d96-a5f4-3216704d2b6b"
      },
      "outputs": [
        {
          "output_type": "stream",
          "name": "stdout",
          "text": [
            "PadmaSai\n"
          ]
        }
      ],
      "source": [
        "print(\"PadmaSai\")"
      ]
    },
    {
      "cell_type": "code",
      "source": [
        "print(\"sai\",\"kallu\",\"danu\",121)"
      ],
      "metadata": {
        "colab": {
          "base_uri": "https://localhost:8080/"
        },
        "id": "jswVUhlHwn83",
        "outputId": "f2f0606a-d6ba-4964-a6cf-756bea2301bf"
      },
      "execution_count": null,
      "outputs": [
        {
          "output_type": "stream",
          "name": "stdout",
          "text": [
            "sai kallu danu 121\n"
          ]
        }
      ]
    },
    {
      "cell_type": "code",
      "source": [
        "i=6\n",
        "print(i)\n",
        "type(i)"
      ],
      "metadata": {
        "colab": {
          "base_uri": "https://localhost:8080/"
        },
        "id": "uAUJKPAtxA7x",
        "outputId": "5b239b3d-bcb8-434a-c05d-0e3f918b821e"
      },
      "execution_count": null,
      "outputs": [
        {
          "output_type": "stream",
          "name": "stdout",
          "text": [
            "6\n"
          ]
        },
        {
          "output_type": "execute_result",
          "data": {
            "text/plain": [
              "int"
            ]
          },
          "metadata": {},
          "execution_count": 5
        }
      ]
    },
    {
      "cell_type": "code",
      "source": [
        "i=\"paddu\"\n",
        "print(i)\n",
        "type(i)"
      ],
      "metadata": {
        "colab": {
          "base_uri": "https://localhost:8080/"
        },
        "id": "f8JUe57XxUHA",
        "outputId": "d5a23cf4-d692-41d2-d545-785ef273cd1b"
      },
      "execution_count": null,
      "outputs": [
        {
          "output_type": "stream",
          "name": "stdout",
          "text": [
            "paddu\n"
          ]
        },
        {
          "output_type": "execute_result",
          "data": {
            "text/plain": [
              "str"
            ]
          },
          "metadata": {},
          "execution_count": 6
        }
      ]
    },
    {
      "cell_type": "code",
      "source": [
        "my_f=65.3\n",
        "print(my_f)\n",
        "type(my_f)"
      ],
      "metadata": {
        "colab": {
          "base_uri": "https://localhost:8080/"
        },
        "id": "H1plDex5xjLU",
        "outputId": "55534602-58c3-4310-9044-e302eea353f0"
      },
      "execution_count": null,
      "outputs": [
        {
          "output_type": "stream",
          "name": "stdout",
          "text": [
            "65.3\n"
          ]
        },
        {
          "output_type": "execute_result",
          "data": {
            "text/plain": [
              "float"
            ]
          },
          "metadata": {},
          "execution_count": 8
        }
      ]
    },
    {
      "cell_type": "code",
      "source": [
        "my_bool=True\n",
        "print(my_bool)\n",
        "print(type(my_bool))"
      ],
      "metadata": {
        "colab": {
          "base_uri": "https://localhost:8080/"
        },
        "id": "BqMPzVYByG_5",
        "outputId": "4bf44328-9399-4e71-c93e-b444aa217d3c"
      },
      "execution_count": null,
      "outputs": [
        {
          "output_type": "stream",
          "name": "stdout",
          "text": [
            "True\n",
            "<class 'bool'>\n"
          ]
        }
      ]
    },
    {
      "cell_type": "code",
      "source": [
        "my_none=None\n",
        "print(my_none)\n",
        "print(type(my_none))"
      ],
      "metadata": {
        "colab": {
          "base_uri": "https://localhost:8080/"
        },
        "id": "A2TJwg7By8Je",
        "outputId": "5ecba1d6-c2db-44d3-dd4f-9f338774d87c"
      },
      "execution_count": null,
      "outputs": [
        {
          "output_type": "stream",
          "name": "stdout",
          "text": [
            "None\n",
            "<class 'NoneType'>\n"
          ]
        }
      ]
    },
    {
      "cell_type": "code",
      "source": [
        "name=input(\"enter your name:\")\n",
        "print(name)\n",
        "print(type(name))"
      ],
      "metadata": {
        "colab": {
          "base_uri": "https://localhost:8080/"
        },
        "id": "BDaZUimkzios",
        "outputId": "3e2e8244-1a77-4c6b-ce41-1329b7881e03"
      },
      "execution_count": null,
      "outputs": [
        {
          "output_type": "stream",
          "name": "stdout",
          "text": [
            "enter your name:padma\n",
            "padma\n",
            "<class 'str'>\n"
          ]
        }
      ]
    },
    {
      "cell_type": "code",
      "source": [
        "num='9'\n",
        "print(type(num))\n",
        "num=int(num)\n",
        "print(type(num))"
      ],
      "metadata": {
        "colab": {
          "base_uri": "https://localhost:8080/"
        },
        "id": "Ah5ruGK70Afs",
        "outputId": "6aaf918c-6810-4fe7-d011-22de9a373ed2"
      },
      "execution_count": null,
      "outputs": [
        {
          "output_type": "stream",
          "name": "stdout",
          "text": [
            "<class 'str'>\n",
            "<class 'int'>\n"
          ]
        }
      ]
    },
    {
      "cell_type": "code",
      "source": [
        "age=int(input(\"what's your age ? \"))\n",
        "print(age)\n",
        "print(type(age))"
      ],
      "metadata": {
        "colab": {
          "base_uri": "https://localhost:8080/"
        },
        "id": "3lLMjjX60pJ4",
        "outputId": "683c0ebe-8335-4586-b815-52a71ffd289a"
      },
      "execution_count": null,
      "outputs": [
        {
          "output_type": "stream",
          "name": "stdout",
          "text": [
            "what's your age ? 57\n",
            "57\n",
            "<class 'int'>\n"
          ]
        }
      ]
    },
    {
      "cell_type": "code",
      "source": [
        "number1=12\n",
        "number2=3\n",
        "add==number1+number2\n",
        "sub=number1-number2\n",
        "mul=number1*number2\n",
        "div=number1/number2\n",
        "f_div=number1//number2\n",
        "exp=number1**number2\n",
        "mod=number1%number2\n",
        "print(\"number1+number2=\",add)\n",
        "print(\"number1-number2=\",sub)\n",
        "print(\"number1number2=\",mul)\n",
        "print(\"number1/number2=\",div)\n",
        "print(\"number1//number2=\",f_div)\n",
        "print(\"number1**number2=\",exp)\n",
        "print(\"number1%number2=\",mod)"
      ],
      "metadata": {
        "colab": {
          "base_uri": "https://localhost:8080/"
        },
        "id": "t7UgwsYe1Khd",
        "outputId": "59890aa6-2036-490e-ecc3-a26dc4f1387a"
      },
      "execution_count": null,
      "outputs": [
        {
          "output_type": "stream",
          "name": "stdout",
          "text": [
            "number1+number2= 167\n",
            "number1-number2= 9\n",
            "number1number2= 36\n",
            "number1/number2= 4.0\n",
            "number1//number2= 4\n",
            "number1**number2= 1728\n",
            "number1%number2= 0\n"
          ]
        }
      ]
    },
    {
      "cell_type": "code",
      "source": [
        "no1=12\n",
        "no2=5\n",
        "print(\"a>b:\",no1>no2)\n",
        "print(\"a<b:\",no1<no2)\n",
        "print(\"a==b:\",no1==no2)\n",
        "print(\"a!=b:\",no1!=no2)"
      ],
      "metadata": {
        "colab": {
          "base_uri": "https://localhost:8080/"
        },
        "id": "GcPkVePM3GCL",
        "outputId": "44c6b273-fb53-4f8b-fe75-bf9b17ad8e37"
      },
      "execution_count": null,
      "outputs": [
        {
          "output_type": "stream",
          "name": "stdout",
          "text": [
            "a>b: True\n",
            "a<b: False\n",
            "a==b: False\n",
            "a!=b: True\n"
          ]
        }
      ]
    },
    {
      "cell_type": "code",
      "source": [
        "no1=12\n",
        "no2=5\n",
        "print((no1>no2)and(no1<no2))\n",
        "print((no1>no2)or(no1<no2))\n",
        "print( not False)\n",
        "print(no1&no2)\n",
        "print(no1|no2)"
      ],
      "metadata": {
        "colab": {
          "base_uri": "https://localhost:8080/"
        },
        "id": "BtNrMhQb4Dmx",
        "outputId": "2156364b-f821-408a-e606-0412cca57b31"
      },
      "execution_count": null,
      "outputs": [
        {
          "output_type": "stream",
          "name": "stdout",
          "text": [
            "False\n",
            "True\n",
            "True\n",
            "4\n",
            "13\n"
          ]
        }
      ]
    },
    {
      "cell_type": "code",
      "source": [
        "\"good\" in \"good morning\""
      ],
      "metadata": {
        "colab": {
          "base_uri": "https://localhost:8080/"
        },
        "id": "hAgBe0gd5dmf",
        "outputId": "a9392f67-663e-4f30-aa5d-766619166b3a"
      },
      "execution_count": null,
      "outputs": [
        {
          "output_type": "execute_result",
          "data": {
            "text/plain": [
              "True"
            ]
          },
          "metadata": {},
          "execution_count": 24
        }
      ]
    },
    {
      "cell_type": "code",
      "source": [
        "age=int(input())\n",
        "print(\"enter your age:\",age)\n",
        "if(age>=18):\n",
        "  print(\"you're eligible to vote.\")\n",
        "else:\n",
        "  print(\"grow up first.\")"
      ],
      "metadata": {
        "colab": {
          "base_uri": "https://localhost:8080/"
        },
        "id": "6v-yR4KO6LGZ",
        "outputId": "88c61a8f-29cf-4577-be0d-2162561d55ac"
      },
      "execution_count": null,
      "outputs": [
        {
          "output_type": "stream",
          "name": "stdout",
          "text": [
            "34\n",
            "enter your age: 34\n",
            "you're eligible to vote.\n"
          ]
        }
      ]
    },
    {
      "cell_type": "code",
      "source": [
        "age=int(input())\n",
        "print(\"enter your age:\",age)\n",
        "if(age>=18):\n",
        "  print(\"you're eligible to vote.\")\n",
        "elif(age>=15):\n",
        "  print(\"grow up first.\")\n",
        "else:\n",
        "  print(\"go home kid.\")"
      ],
      "metadata": {
        "colab": {
          "base_uri": "https://localhost:8080/"
        },
        "id": "lKFtgFuB86Bt",
        "outputId": "a6f578d9-0841-421c-f6d1-6441595c0697"
      },
      "execution_count": null,
      "outputs": [
        {
          "output_type": "stream",
          "name": "stdout",
          "text": [
            "5\n",
            "enter your age: 5\n",
            "go home kid.\n"
          ]
        }
      ]
    },
    {
      "cell_type": "code",
      "source": [
        "i=1\n",
        "while (i<=20):\n",
        "  if(i%2==0):\n",
        "    print(i,end=\", \")\n",
        "  i=i+1"
      ],
      "metadata": {
        "id": "c3GkVen89rdl",
        "colab": {
          "base_uri": "https://localhost:8080/"
        },
        "outputId": "0ca77a4a-25d4-4ff7-9c37-afa9c608b7cb"
      },
      "execution_count": 2,
      "outputs": [
        {
          "output_type": "stream",
          "name": "stdout",
          "text": [
            "2, 4, 6, 8, 10, 12, 14, 16, 18, 20, "
          ]
        }
      ]
    },
    {
      "cell_type": "code",
      "source": [
        "for i in range(1,21):\n",
        "  if(i%2==0):\n",
        "    print(i,end=\", \")"
      ],
      "metadata": {
        "colab": {
          "base_uri": "https://localhost:8080/"
        },
        "id": "zNNkAXjcMoyU",
        "outputId": "9aafb0ab-85de-4402-b54c-d6ebc5542a42"
      },
      "execution_count": 4,
      "outputs": [
        {
          "output_type": "stream",
          "name": "stdout",
          "text": [
            "2, 4, 6, 8, 10, 12, 14, 16, 18, 20, "
          ]
        }
      ]
    },
    {
      "cell_type": "code",
      "source": [
        "for i in range(2,21,2):\n",
        "  print(i, end=\" \")"
      ],
      "metadata": {
        "colab": {
          "base_uri": "https://localhost:8080/"
        },
        "id": "IxFrR55qM9wS",
        "outputId": "799bdd4b-a9fa-4081-db09-de0aa8e4c1dd"
      },
      "execution_count": 5,
      "outputs": [
        {
          "output_type": "stream",
          "name": "stdout",
          "text": [
            "2 4 6 8 10 12 14 16 18 20 "
          ]
        }
      ]
    },
    {
      "cell_type": "code",
      "source": [
        "n=9\n",
        "for i in range(1,11):\n",
        "  print(n, \"x\", i,\"=\",i*n)"
      ],
      "metadata": {
        "colab": {
          "base_uri": "https://localhost:8080/"
        },
        "id": "Mm-WTZ9vNLyO",
        "outputId": "4d4948a0-a5e4-42c2-8168-1416b2e23288"
      },
      "execution_count": 6,
      "outputs": [
        {
          "output_type": "stream",
          "name": "stdout",
          "text": [
            "9 x 1 = 9\n",
            "9 x 2 = 18\n",
            "9 x 3 = 27\n",
            "9 x 4 = 36\n",
            "9 x 5 = 45\n",
            "9 x 6 = 54\n",
            "9 x 7 = 63\n",
            "9 x 8 = 72\n",
            "9 x 9 = 81\n",
            "9 x 10 = 90\n"
          ]
        }
      ]
    },
    {
      "cell_type": "code",
      "source": [
        "for i in range(1,10):\n",
        "  if(i==5):\n",
        "    break\n",
        "  print(i)"
      ],
      "metadata": {
        "colab": {
          "base_uri": "https://localhost:8080/"
        },
        "id": "JG1QqxZhN_g7",
        "outputId": "35f6e94e-e1cf-4d34-b9db-f3904643ce9a"
      },
      "execution_count": 7,
      "outputs": [
        {
          "output_type": "stream",
          "name": "stdout",
          "text": [
            "1\n",
            "2\n",
            "3\n",
            "4\n"
          ]
        }
      ]
    },
    {
      "cell_type": "code",
      "source": [
        "for i in range(1,10):\n",
        "  if(i==5):\n",
        "    continue\n",
        "  print(i)"
      ],
      "metadata": {
        "colab": {
          "base_uri": "https://localhost:8080/"
        },
        "id": "t1zayZ-1OUds",
        "outputId": "7a4c3adb-7ff4-40f4-d258-cd050e57acd4"
      },
      "execution_count": 8,
      "outputs": [
        {
          "output_type": "stream",
          "name": "stdout",
          "text": [
            "1\n",
            "2\n",
            "3\n",
            "4\n",
            "6\n",
            "7\n",
            "8\n",
            "9\n"
          ]
        }
      ]
    },
    {
      "cell_type": "code",
      "source": [
        "my_str=\"welcome to the course\"\n",
        "print(my_str)\n",
        "print(type(my_str))"
      ],
      "metadata": {
        "colab": {
          "base_uri": "https://localhost:8080/"
        },
        "id": "jxLz6p7hOpUQ",
        "outputId": "43f82aa0-c93e-4420-8d62-fd11bd4cee99"
      },
      "execution_count": 1,
      "outputs": [
        {
          "output_type": "stream",
          "name": "stdout",
          "text": [
            "welcome to the course\n",
            "<class 'str'>\n"
          ]
        }
      ]
    },
    {
      "cell_type": "code",
      "source": [
        "print(my_str[0])\n",
        "print(my_str[1])\n",
        "print(my_str[2])\n",
        "print(my_str[3])\n",
        "print(my_str[4])\n",
        "print(my_str[5])\n",
        "print(my_str[6])"
      ],
      "metadata": {
        "colab": {
          "base_uri": "https://localhost:8080/"
        },
        "id": "Eh7NmmkJ4Sec",
        "outputId": "9525986e-ffe2-42c9-f35e-6453075ccf23"
      },
      "execution_count": 4,
      "outputs": [
        {
          "output_type": "stream",
          "name": "stdout",
          "text": [
            "w\n",
            "e\n",
            "l\n",
            "c\n",
            "o\n",
            "m\n",
            "e\n"
          ]
        }
      ]
    },
    {
      "cell_type": "code",
      "source": [
        "print(len(my_str))\n",
        "print(my_str[len(my_str)-2])"
      ],
      "metadata": {
        "colab": {
          "base_uri": "https://localhost:8080/"
        },
        "id": "oXR8FzEP4qpc",
        "outputId": "155de5b5-160b-4d60-f85f-78aeff78ca61"
      },
      "execution_count": 7,
      "outputs": [
        {
          "output_type": "stream",
          "name": "stdout",
          "text": [
            "21\n",
            "s\n"
          ]
        }
      ]
    },
    {
      "cell_type": "code",
      "source": [
        "print(my_str[-1])\n",
        "print(my_str[-5])"
      ],
      "metadata": {
        "colab": {
          "base_uri": "https://localhost:8080/"
        },
        "id": "L1KSXI5t5INy",
        "outputId": "e09cdcaf-1a30-410c-dade-45514cad8602"
      },
      "execution_count": 8,
      "outputs": [
        {
          "output_type": "stream",
          "name": "stdout",
          "text": [
            "e\n",
            "o\n"
          ]
        }
      ]
    },
    {
      "cell_type": "code",
      "source": [
        "print(my_str[2:7])\n",
        "print(my_str[:])\n",
        "print(my_str[:-1])"
      ],
      "metadata": {
        "colab": {
          "base_uri": "https://localhost:8080/"
        },
        "id": "uZtfgKBR5TCh",
        "outputId": "5d83d3e3-9efe-4366-af9d-495ff5a5aacb"
      },
      "execution_count": 9,
      "outputs": [
        {
          "output_type": "stream",
          "name": "stdout",
          "text": [
            "lcome\n",
            "welcome to the course\n",
            "welcome to the cours\n"
          ]
        }
      ]
    },
    {
      "cell_type": "code",
      "source": [
        "print(my_str)\n",
        "print(my_str.lower())\n",
        "print(my_str.upper())\n",
        "print(my_str.title())\n",
        "print(my_str.find(\"come\"))\n",
        "print(my_str.split(\" \"))"
      ],
      "metadata": {
        "colab": {
          "base_uri": "https://localhost:8080/"
        },
        "id": "SwEfn2Qj54kL",
        "outputId": "72bd33e0-9cf7-44c6-824b-ab08e7f7c10a"
      },
      "execution_count": 17,
      "outputs": [
        {
          "output_type": "stream",
          "name": "stdout",
          "text": [
            "welcome to the course\n",
            "welcome to the course\n",
            "WELCOME TO THE COURSE\n",
            "Welcome To The Course\n",
            "3\n",
            "['welcome', 'to', 'the', 'course']\n"
          ]
        }
      ]
    },
    {
      "cell_type": "code",
      "source": [
        "\"abc \"+\" pqr\"\n",
        "\"abc\"+str(1)\n",
        "\"hello\"*4"
      ],
      "metadata": {
        "colab": {
          "base_uri": "https://localhost:8080/",
          "height": 36
        },
        "id": "JGnhsv9K70cs",
        "outputId": "59cc7944-7282-44c9-ac80-61ea782401b0"
      },
      "execution_count": 22,
      "outputs": [
        {
          "output_type": "execute_result",
          "data": {
            "text/plain": [
              "'hellohellohellohello'"
            ],
            "application/vnd.google.colaboratory.intrinsic+json": {
              "type": "string"
            }
          },
          "metadata": {},
          "execution_count": 22
        }
      ]
    },
    {
      "cell_type": "code",
      "source": [
        "my_list=[5,6,2,6,3]\n",
        "print(my_list)\n",
        "type(my_list)"
      ],
      "metadata": {
        "colab": {
          "base_uri": "https://localhost:8080/"
        },
        "id": "8iOUw9MY8Ilo",
        "outputId": "6060ece7-72a5-4131-db42-0419d184eca8"
      },
      "execution_count": 23,
      "outputs": [
        {
          "output_type": "stream",
          "name": "stdout",
          "text": [
            "[5, 6, 2, 6, 3]\n"
          ]
        },
        {
          "output_type": "execute_result",
          "data": {
            "text/plain": [
              "list"
            ]
          },
          "metadata": {},
          "execution_count": 23
        }
      ]
    },
    {
      "cell_type": "code",
      "source": [
        "print(my_list[0])\n",
        "print(my_list[-1])\n",
        "print(my_list[1:-1])"
      ],
      "metadata": {
        "colab": {
          "base_uri": "https://localhost:8080/"
        },
        "id": "RIhh-or682tS",
        "outputId": "16d9326c-0631-4052-d844-04a3bf9696c9"
      },
      "execution_count": 24,
      "outputs": [
        {
          "output_type": "stream",
          "name": "stdout",
          "text": [
            "5\n",
            "3\n",
            "[6, 2, 6]\n"
          ]
        }
      ]
    },
    {
      "cell_type": "code",
      "source": [
        "my_list[0]=99\n",
        "print(my_list)"
      ],
      "metadata": {
        "colab": {
          "base_uri": "https://localhost:8080/"
        },
        "id": "CgAOjk2_-U1H",
        "outputId": "3df14057-03b3-4edf-c7c3-d832ff19d20e"
      },
      "execution_count": 25,
      "outputs": [
        {
          "output_type": "stream",
          "name": "stdout",
          "text": [
            "[99, 6, 2, 6, 3]\n"
          ]
        }
      ]
    },
    {
      "cell_type": "code",
      "source": [
        "my_list.append(99)\n",
        "print(my_list)"
      ],
      "metadata": {
        "colab": {
          "base_uri": "https://localhost:8080/"
        },
        "id": "IPQvVQWd-ggI",
        "outputId": "d941829c-43a9-4abd-d0e4-2095ca029f8f"
      },
      "execution_count": 42,
      "outputs": [
        {
          "output_type": "stream",
          "name": "stdout",
          "text": [
            "[33, 88, 88, 88, 99, 88, 88, 6, 2, 6, 3, 33, 88, 33, 33, 33, 33, 33, 99, 99, 99]\n"
          ]
        }
      ]
    },
    {
      "cell_type": "code",
      "source": [
        "my_list.sort()\n",
        "print(my_list)\n",
        "my_list.sort(reverse=True)\n",
        "print(my_list)\n",
        "1 in my_list"
      ],
      "metadata": {
        "colab": {
          "base_uri": "https://localhost:8080/"
        },
        "id": "jdX2OLGHAsJC",
        "outputId": "ec838851-9b7d-43dc-d0d6-8abacee5eb56"
      },
      "execution_count": 47,
      "outputs": [
        {
          "output_type": "stream",
          "name": "stdout",
          "text": [
            "[2, 3, 6, 6, 33, 33, 33, 33, 33, 33, 33, 88, 88, 88, 88, 88, 88, 99, 99, 99, 99]\n",
            "[99, 99, 99, 99, 88, 88, 88, 88, 88, 88, 33, 33, 33, 33, 33, 33, 33, 6, 6, 3, 2]\n"
          ]
        },
        {
          "output_type": "execute_result",
          "data": {
            "text/plain": [
              "False"
            ]
          },
          "metadata": {},
          "execution_count": 47
        }
      ]
    },
    {
      "cell_type": "code",
      "source": [
        "for ele in my_list:\n",
        "  print(ele**2)"
      ],
      "metadata": {
        "colab": {
          "base_uri": "https://localhost:8080/"
        },
        "id": "OxLXpCLfBmjr",
        "outputId": "6e427a0b-7edf-43f0-d0a4-ebf619b5fe8e"
      },
      "execution_count": 48,
      "outputs": [
        {
          "output_type": "stream",
          "name": "stdout",
          "text": [
            "9801\n",
            "9801\n",
            "9801\n",
            "9801\n",
            "7744\n",
            "7744\n",
            "7744\n",
            "7744\n",
            "7744\n",
            "7744\n",
            "1089\n",
            "1089\n",
            "1089\n",
            "1089\n",
            "1089\n",
            "1089\n",
            "1089\n",
            "36\n",
            "36\n",
            "9\n",
            "4\n"
          ]
        }
      ]
    },
    {
      "cell_type": "code",
      "source": [],
      "metadata": {
        "id": "LPRJfAGrBwoM"
      },
      "execution_count": null,
      "outputs": []
    }
  ]
}